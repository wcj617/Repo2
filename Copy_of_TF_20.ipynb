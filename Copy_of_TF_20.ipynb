{
  "nbformat": 4,
  "nbformat_minor": 0,
  "metadata": {
    "colab": {
      "provenance": [],
      "mount_file_id": "1oI0l9Z_vdOcKDVKN4K1OZ1v7WJYaNsnf",
      "authorship_tag": "ABX9TyNih2Luu7zcUPuDH7JLqkc+",
      "include_colab_link": true
    },
    "kernelspec": {
      "name": "python3",
      "display_name": "Python 3"
    },
    "language_info": {
      "name": "python"
    }
  },
  "cells": [
    {
      "cell_type": "markdown",
      "metadata": {
        "id": "view-in-github",
        "colab_type": "text"
      },
      "source": [
        "<a href=\"https://colab.research.google.com/github/wcj617/Repo2/blob/master/Copy_of_TF_20.ipynb\" target=\"_parent\"><img src=\"https://colab.research.google.com/assets/colab-badge.svg\" alt=\"Open In Colab\"/></a>"
      ]
    },
    {
      "cell_type": "markdown",
      "source": [
        "#Public Link\n"
      ],
      "metadata": {
        "id": "6G3uLDhbXwUa"
      }
    },
    {
      "cell_type": "code",
      "source": [
        "!ls"
      ],
      "metadata": {
        "id": "qBv9hHORYYsL",
        "colab": {
          "base_uri": "https://localhost:8080/"
        },
        "outputId": "43fe6880-e982-4c14-960d-9961eb661eeb"
      },
      "execution_count": null,
      "outputs": [
        {
          "output_type": "stream",
          "name": "stdout",
          "text": [
            "drive  sample_data\n"
          ]
        }
      ]
    },
    {
      "cell_type": "code",
      "source": [
        "pwd"
      ],
      "metadata": {
        "colab": {
          "base_uri": "https://localhost:8080/",
          "height": 35
        },
        "id": "IiaeXvvVfvfb",
        "outputId": "05859942-a06e-4072-ded3-47dccb74b8e7"
      },
      "execution_count": null,
      "outputs": [
        {
          "output_type": "execute_result",
          "data": {
            "text/plain": [
              "'/content'"
            ],
            "application/vnd.google.colaboratory.intrinsic+json": {
              "type": "string"
            }
          },
          "metadata": {},
          "execution_count": 6
        }
      ]
    },
    {
      "cell_type": "code",
      "source": [
        "import pandas as pd\n"
      ],
      "metadata": {
        "id": "4Bg0Oz1OcKM5"
      },
      "execution_count": null,
      "outputs": []
    },
    {
      "cell_type": "code",
      "source": [
        "pd.read_csv('/content/drive/MyDrive/ibioML/Data/Clean_V2.csv').head()"
      ],
      "metadata": {
        "colab": {
          "base_uri": "https://localhost:8080/",
          "height": 300
        },
        "id": "QoF44uAmcPqA",
        "outputId": "d753a9e2-4466-460a-8f03-a331ad0a965e"
      },
      "execution_count": null,
      "outputs": [
        {
          "output_type": "execute_result",
          "data": {
            "text/plain": [
              "   subject  Y1IL6  Y1CRP  Y1TNFa  Y1MCP1  Y1PTX3  osteopontin     ngal  \\\n",
              "0       45  3.912   9.65    3.41  147.39   0.484     177.6290  114.064   \n",
              "1       46  3.219   2.32    3.78  308.09   0.466      55.1177  194.964   \n",
              "2       47  2.417   1.38    6.13  239.53   0.583     361.9130  223.459   \n",
              "3       51  3.099   0.45    2.15  422.74   0.387     162.9900   87.273   \n",
              "4       55  2.435   0.90    2.67  377.80   0.351     125.6200  110.779   \n",
              "\n",
              "   ngalplasmaspecific       st2  ...  Y1FGF23     gdf11        mpo  \\\n",
              "0             1.30170  1.192910  ...     35.7   893.748   23.35780   \n",
              "1             1.51266  2.123200  ...     50.7   921.559   25.21110   \n",
              "2             2.58314  1.549230  ...     61.6   718.902  160.96000   \n",
              "3             1.33383  6.545310  ...     35.3   647.124   18.35780   \n",
              "4             1.33383  0.785212  ...    158.4  1241.040    7.57135   \n",
              "\n",
              "   mesothelin  Y1CystatinC_Siemens  Y1Pt_eGFR_CystC_calc  combo_egfr  \\\n",
              "0     85.6719                 1.15                    63     71.2086   \n",
              "1     13.0307                 0.76                   119    107.0400   \n",
              "2     24.2671                 1.25                    57     50.7446   \n",
              "3     27.1933                 1.04                    74     66.8292   \n",
              "4     30.5928                 1.34                    51     50.7317   \n",
              "\n",
              "   angiogenin  Y1MED1FF  PHQ  \n",
              "0     2464.12         1    0  \n",
              "1     9761.95         1    1  \n",
              "2     8102.35         0    0  \n",
              "3     7313.06         0    0  \n",
              "4     5788.98         1    1  \n",
              "\n",
              "[5 rows x 102 columns]"
            ],
            "text/html": [
              "\n",
              "  <div id=\"df-86228b6d-6120-4cae-9837-57a48bfdda61\">\n",
              "    <div class=\"colab-df-container\">\n",
              "      <div>\n",
              "<style scoped>\n",
              "    .dataframe tbody tr th:only-of-type {\n",
              "        vertical-align: middle;\n",
              "    }\n",
              "\n",
              "    .dataframe tbody tr th {\n",
              "        vertical-align: top;\n",
              "    }\n",
              "\n",
              "    .dataframe thead th {\n",
              "        text-align: right;\n",
              "    }\n",
              "</style>\n",
              "<table border=\"1\" class=\"dataframe\">\n",
              "  <thead>\n",
              "    <tr style=\"text-align: right;\">\n",
              "      <th></th>\n",
              "      <th>subject</th>\n",
              "      <th>Y1IL6</th>\n",
              "      <th>Y1CRP</th>\n",
              "      <th>Y1TNFa</th>\n",
              "      <th>Y1MCP1</th>\n",
              "      <th>Y1PTX3</th>\n",
              "      <th>osteopontin</th>\n",
              "      <th>ngal</th>\n",
              "      <th>ngalplasmaspecific</th>\n",
              "      <th>st2</th>\n",
              "      <th>...</th>\n",
              "      <th>Y1FGF23</th>\n",
              "      <th>gdf11</th>\n",
              "      <th>mpo</th>\n",
              "      <th>mesothelin</th>\n",
              "      <th>Y1CystatinC_Siemens</th>\n",
              "      <th>Y1Pt_eGFR_CystC_calc</th>\n",
              "      <th>combo_egfr</th>\n",
              "      <th>angiogenin</th>\n",
              "      <th>Y1MED1FF</th>\n",
              "      <th>PHQ</th>\n",
              "    </tr>\n",
              "  </thead>\n",
              "  <tbody>\n",
              "    <tr>\n",
              "      <th>0</th>\n",
              "      <td>45</td>\n",
              "      <td>3.912</td>\n",
              "      <td>9.65</td>\n",
              "      <td>3.41</td>\n",
              "      <td>147.39</td>\n",
              "      <td>0.484</td>\n",
              "      <td>177.6290</td>\n",
              "      <td>114.064</td>\n",
              "      <td>1.30170</td>\n",
              "      <td>1.192910</td>\n",
              "      <td>...</td>\n",
              "      <td>35.7</td>\n",
              "      <td>893.748</td>\n",
              "      <td>23.35780</td>\n",
              "      <td>85.6719</td>\n",
              "      <td>1.15</td>\n",
              "      <td>63</td>\n",
              "      <td>71.2086</td>\n",
              "      <td>2464.12</td>\n",
              "      <td>1</td>\n",
              "      <td>0</td>\n",
              "    </tr>\n",
              "    <tr>\n",
              "      <th>1</th>\n",
              "      <td>46</td>\n",
              "      <td>3.219</td>\n",
              "      <td>2.32</td>\n",
              "      <td>3.78</td>\n",
              "      <td>308.09</td>\n",
              "      <td>0.466</td>\n",
              "      <td>55.1177</td>\n",
              "      <td>194.964</td>\n",
              "      <td>1.51266</td>\n",
              "      <td>2.123200</td>\n",
              "      <td>...</td>\n",
              "      <td>50.7</td>\n",
              "      <td>921.559</td>\n",
              "      <td>25.21110</td>\n",
              "      <td>13.0307</td>\n",
              "      <td>0.76</td>\n",
              "      <td>119</td>\n",
              "      <td>107.0400</td>\n",
              "      <td>9761.95</td>\n",
              "      <td>1</td>\n",
              "      <td>1</td>\n",
              "    </tr>\n",
              "    <tr>\n",
              "      <th>2</th>\n",
              "      <td>47</td>\n",
              "      <td>2.417</td>\n",
              "      <td>1.38</td>\n",
              "      <td>6.13</td>\n",
              "      <td>239.53</td>\n",
              "      <td>0.583</td>\n",
              "      <td>361.9130</td>\n",
              "      <td>223.459</td>\n",
              "      <td>2.58314</td>\n",
              "      <td>1.549230</td>\n",
              "      <td>...</td>\n",
              "      <td>61.6</td>\n",
              "      <td>718.902</td>\n",
              "      <td>160.96000</td>\n",
              "      <td>24.2671</td>\n",
              "      <td>1.25</td>\n",
              "      <td>57</td>\n",
              "      <td>50.7446</td>\n",
              "      <td>8102.35</td>\n",
              "      <td>0</td>\n",
              "      <td>0</td>\n",
              "    </tr>\n",
              "    <tr>\n",
              "      <th>3</th>\n",
              "      <td>51</td>\n",
              "      <td>3.099</td>\n",
              "      <td>0.45</td>\n",
              "      <td>2.15</td>\n",
              "      <td>422.74</td>\n",
              "      <td>0.387</td>\n",
              "      <td>162.9900</td>\n",
              "      <td>87.273</td>\n",
              "      <td>1.33383</td>\n",
              "      <td>6.545310</td>\n",
              "      <td>...</td>\n",
              "      <td>35.3</td>\n",
              "      <td>647.124</td>\n",
              "      <td>18.35780</td>\n",
              "      <td>27.1933</td>\n",
              "      <td>1.04</td>\n",
              "      <td>74</td>\n",
              "      <td>66.8292</td>\n",
              "      <td>7313.06</td>\n",
              "      <td>0</td>\n",
              "      <td>0</td>\n",
              "    </tr>\n",
              "    <tr>\n",
              "      <th>4</th>\n",
              "      <td>55</td>\n",
              "      <td>2.435</td>\n",
              "      <td>0.90</td>\n",
              "      <td>2.67</td>\n",
              "      <td>377.80</td>\n",
              "      <td>0.351</td>\n",
              "      <td>125.6200</td>\n",
              "      <td>110.779</td>\n",
              "      <td>1.33383</td>\n",
              "      <td>0.785212</td>\n",
              "      <td>...</td>\n",
              "      <td>158.4</td>\n",
              "      <td>1241.040</td>\n",
              "      <td>7.57135</td>\n",
              "      <td>30.5928</td>\n",
              "      <td>1.34</td>\n",
              "      <td>51</td>\n",
              "      <td>50.7317</td>\n",
              "      <td>5788.98</td>\n",
              "      <td>1</td>\n",
              "      <td>1</td>\n",
              "    </tr>\n",
              "  </tbody>\n",
              "</table>\n",
              "<p>5 rows × 102 columns</p>\n",
              "</div>\n",
              "      <button class=\"colab-df-convert\" onclick=\"convertToInteractive('df-86228b6d-6120-4cae-9837-57a48bfdda61')\"\n",
              "              title=\"Convert this dataframe to an interactive table.\"\n",
              "              style=\"display:none;\">\n",
              "        \n",
              "  <svg xmlns=\"http://www.w3.org/2000/svg\" height=\"24px\"viewBox=\"0 0 24 24\"\n",
              "       width=\"24px\">\n",
              "    <path d=\"M0 0h24v24H0V0z\" fill=\"none\"/>\n",
              "    <path d=\"M18.56 5.44l.94 2.06.94-2.06 2.06-.94-2.06-.94-.94-2.06-.94 2.06-2.06.94zm-11 1L8.5 8.5l.94-2.06 2.06-.94-2.06-.94L8.5 2.5l-.94 2.06-2.06.94zm10 10l.94 2.06.94-2.06 2.06-.94-2.06-.94-.94-2.06-.94 2.06-2.06.94z\"/><path d=\"M17.41 7.96l-1.37-1.37c-.4-.4-.92-.59-1.43-.59-.52 0-1.04.2-1.43.59L10.3 9.45l-7.72 7.72c-.78.78-.78 2.05 0 2.83L4 21.41c.39.39.9.59 1.41.59.51 0 1.02-.2 1.41-.59l7.78-7.78 2.81-2.81c.8-.78.8-2.07 0-2.86zM5.41 20L4 18.59l7.72-7.72 1.47 1.35L5.41 20z\"/>\n",
              "  </svg>\n",
              "      </button>\n",
              "      \n",
              "  <style>\n",
              "    .colab-df-container {\n",
              "      display:flex;\n",
              "      flex-wrap:wrap;\n",
              "      gap: 12px;\n",
              "    }\n",
              "\n",
              "    .colab-df-convert {\n",
              "      background-color: #E8F0FE;\n",
              "      border: none;\n",
              "      border-radius: 50%;\n",
              "      cursor: pointer;\n",
              "      display: none;\n",
              "      fill: #1967D2;\n",
              "      height: 32px;\n",
              "      padding: 0 0 0 0;\n",
              "      width: 32px;\n",
              "    }\n",
              "\n",
              "    .colab-df-convert:hover {\n",
              "      background-color: #E2EBFA;\n",
              "      box-shadow: 0px 1px 2px rgba(60, 64, 67, 0.3), 0px 1px 3px 1px rgba(60, 64, 67, 0.15);\n",
              "      fill: #174EA6;\n",
              "    }\n",
              "\n",
              "    [theme=dark] .colab-df-convert {\n",
              "      background-color: #3B4455;\n",
              "      fill: #D2E3FC;\n",
              "    }\n",
              "\n",
              "    [theme=dark] .colab-df-convert:hover {\n",
              "      background-color: #434B5C;\n",
              "      box-shadow: 0px 1px 3px 1px rgba(0, 0, 0, 0.15);\n",
              "      filter: drop-shadow(0px 1px 2px rgba(0, 0, 0, 0.3));\n",
              "      fill: #FFFFFF;\n",
              "    }\n",
              "  </style>\n",
              "\n",
              "      <script>\n",
              "        const buttonEl =\n",
              "          document.querySelector('#df-86228b6d-6120-4cae-9837-57a48bfdda61 button.colab-df-convert');\n",
              "        buttonEl.style.display =\n",
              "          google.colab.kernel.accessAllowed ? 'block' : 'none';\n",
              "\n",
              "        async function convertToInteractive(key) {\n",
              "          const element = document.querySelector('#df-86228b6d-6120-4cae-9837-57a48bfdda61');\n",
              "          const dataTable =\n",
              "            await google.colab.kernel.invokeFunction('convertToInteractive',\n",
              "                                                     [key], {});\n",
              "          if (!dataTable) return;\n",
              "\n",
              "          const docLinkHtml = 'Like what you see? Visit the ' +\n",
              "            '<a target=\"_blank\" href=https://colab.research.google.com/notebooks/data_table.ipynb>data table notebook</a>'\n",
              "            + ' to learn more about interactive tables.';\n",
              "          element.innerHTML = '';\n",
              "          dataTable['output_type'] = 'display_data';\n",
              "          await google.colab.output.renderOutput(dataTable, element);\n",
              "          const docLink = document.createElement('div');\n",
              "          docLink.innerHTML = docLinkHtml;\n",
              "          element.appendChild(docLink);\n",
              "        }\n",
              "      </script>\n",
              "    </div>\n",
              "  </div>\n",
              "  "
            ]
          },
          "metadata": {},
          "execution_count": 10
        }
      ]
    },
    {
      "cell_type": "markdown",
      "source": [
        "#Google Drive"
      ],
      "metadata": {
        "id": "A81Ud9tkX08B"
      }
    },
    {
      "cell_type": "code",
      "source": [],
      "metadata": {
        "id": "2kyJabcMX2QN"
      },
      "execution_count": null,
      "outputs": []
    },
    {
      "cell_type": "markdown",
      "source": [
        "#Local Drive"
      ],
      "metadata": {
        "id": "YY5L66wBX82y"
      }
    },
    {
      "cell_type": "code",
      "source": [
        "!ls"
      ],
      "metadata": {
        "id": "46iyw5BpX-po",
        "colab": {
          "base_uri": "https://localhost:8080/"
        },
        "outputId": "0999a115-b1e0-4fb7-9a98-cdb7f62b7b9c"
      },
      "execution_count": null,
      "outputs": [
        {
          "output_type": "stream",
          "name": "stdout",
          "text": [
            "drive  sample_data\n"
          ]
        }
      ]
    },
    {
      "cell_type": "markdown",
      "source": [
        "# This is heading"
      ],
      "metadata": {
        "id": "4vlENVmvhQsS"
      }
    },
    {
      "cell_type": "code",
      "source": [],
      "metadata": {
        "id": "cm-7sK7fhhKJ"
      },
      "execution_count": null,
      "outputs": []
    },
    {
      "cell_type": "markdown",
      "source": [
        "$ a*x^2 + bx + C = 0 $\n",
        "$\\frac{a}{c}$"
      ],
      "metadata": {
        "id": "Od-0nd0Shz5k"
      }
    }
  ]
}